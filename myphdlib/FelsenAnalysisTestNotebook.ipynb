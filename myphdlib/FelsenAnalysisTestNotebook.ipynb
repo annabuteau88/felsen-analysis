{
 "cells": [
  {
   "cell_type": "code",
   "execution_count": 27,
   "id": "714159d4",
   "metadata": {},
   "outputs": [],
   "source": [
    "%load_ext autoreload\n",
    "%autoreload 2\n"
   ]
  },
  {
   "cell_type": "code",
   "execution_count": 30,
   "id": "c5b75e98",
   "metadata": {},
   "outputs": [],
   "source": [
    "from toolkit.process import AnalysisObject\n",
    "from toolkit.populations import definePremotorPopulation\n",
    "from toolkit.populations import defineVisualPopulation\n",
    "from toolkit.saccades import parseSaccadeType\n",
    "from toolkit.saccades import calculateSaccadeAmplitudes\n",
    "from toolkit.saccades import calculateSaccadeStartPoint\n",
    "from toolkit.saccades import calculateSaccadeEndPoint\n",
    "from toolkit.populations import createTrialArray\n",
    "from toolkit.populations import specifyTrialTypes\n",
    "from toolkit.populations import trialAveragedPCA\n",
    "import os\n",
    "import numpy as np"
   ]
  },
  {
   "cell_type": "code",
   "execution_count": 8,
   "id": "d42ad682",
   "metadata": {},
   "outputs": [],
   "source": [
    "fileList = ['/media/jbhunt/Seagate Portable Drive/2023-07-31/mlati10',\n",
    "           '/media/jbhunt/Seagate Portable Drive/2023-07-24/mlati9',\n",
    "             '/media/jbhunt/Seagate Portable Drive/2023-07-25/mlati10',\n",
    "             '/media/jbhunt/Seagate Portable Drive/2023-07-26/mlati9',\n",
    "             '/media/jbhunt/Seagate Portable Drive/2023-07-27/mlati10',\n",
    "             '/media/jbhunt/Seagate Portable Drive/2023-07-28/mlati9',\n",
    "             '/media/jbhunt/Seagate Portable Drive/2023-07-31/mlati10',\n",
    "             '/media/jbhunt/Seagate Portable Drive/2023-08-01/mlati10']"
   ]
  },
  {
   "cell_type": "code",
   "execution_count": 9,
   "id": "9ae5e9bc",
   "metadata": {
    "scrolled": false
   },
   "outputs": [
    {
     "ename": "JSONDecodeError",
     "evalue": "Expecting value: line 1 column 1 (char 0)",
     "output_type": "error",
     "traceback": [
      "\u001b[0;31m---------------------------------------------------------------------------\u001b[0m",
      "\u001b[0;31mJSONDecodeError\u001b[0m                           Traceback (most recent call last)",
      "Input \u001b[0;32mIn [9]\u001b[0m, in \u001b[0;36m<cell line: 1>\u001b[0;34m()\u001b[0m\n\u001b[1;32m      2\u001b[0m h5file \u001b[38;5;241m=\u001b[39m os\u001b[38;5;241m.\u001b[39mpath\u001b[38;5;241m.\u001b[39mjoin(base, \u001b[38;5;124m'\u001b[39m\u001b[38;5;124moutput.hdf\u001b[39m\u001b[38;5;124m'\u001b[39m)\n\u001b[1;32m      3\u001b[0m clusterFile \u001b[38;5;241m=\u001b[39m os\u001b[38;5;241m.\u001b[39mpath\u001b[38;5;241m.\u001b[39mjoin(base,\u001b[38;5;124m'\u001b[39m\u001b[38;5;124mephys/sorting/manual/spike_clusters.npy\u001b[39m\u001b[38;5;124m'\u001b[39m)\n\u001b[0;32m----> 4\u001b[0m premotorUnits \u001b[38;5;241m=\u001b[39m \u001b[43mdefinePremotorPopulation\u001b[49m\u001b[43m(\u001b[49m\u001b[43mh5file\u001b[49m\u001b[43m,\u001b[49m\u001b[43m \u001b[49m\u001b[43mclusterFile\u001b[49m\u001b[43m)\u001b[49m\n\u001b[1;32m      5\u001b[0m visualUnits \u001b[38;5;241m=\u001b[39m defineVisualPopulation(h5file, clusterFile)\n\u001b[1;32m      6\u001b[0m \u001b[38;5;28mprint\u001b[39m(premotorUnits)\n",
      "File \u001b[0;32m~/Code/felsen-analysis/myphdlib/toolkit/populations.py:12\u001b[0m, in \u001b[0;36mdefinePremotorPopulation\u001b[0;34m(h5file, clusterFile)\u001b[0m\n\u001b[1;32m     10\u001b[0m session \u001b[38;5;241m=\u001b[39m AnalysisObject(h5file)\n\u001b[1;32m     11\u001b[0m labels \u001b[38;5;241m=\u001b[39m session\u001b[38;5;241m.\u001b[39mload(\u001b[38;5;124m'\u001b[39m\u001b[38;5;124mnptracer/labels\u001b[39m\u001b[38;5;124m'\u001b[39m)\n\u001b[0;32m---> 12\u001b[0m brainAreas \u001b[38;5;241m=\u001b[39m \u001b[43mul\u001b[49m\u001b[38;5;241;43m.\u001b[39;49m\u001b[43mtranslateBrainAreaIdentities\u001b[49m\u001b[43m(\u001b[49m\u001b[43mlabels\u001b[49m\u001b[43m)\u001b[49m \n\u001b[1;32m     13\u001b[0m \u001b[38;5;66;03m#spikeClustersFile = session.home.joinpath('ephys/sorting/manual/spike_clusters.npy') #fix\u001b[39;00m\n\u001b[1;32m     14\u001b[0m spikeClustersFile \u001b[38;5;241m=\u001b[39m clusterFile\n",
      "File \u001b[0;32m~/Code/unit-localizer/unit_localizer/__init__.py:181\u001b[0m, in \u001b[0;36mtranslateBrainAreaIdentities\u001b[0;34m(ids)\u001b[0m\n\u001b[1;32m    179\u001b[0m \u001b[38;5;28;01mglobal\u001b[39;00m TREE\n\u001b[1;32m    180\u001b[0m \u001b[38;5;28;01mif\u001b[39;00m TREE \u001b[38;5;129;01mis\u001b[39;00m \u001b[38;5;28;01mNone\u001b[39;00m:\n\u001b[0;32m--> 181\u001b[0m     \u001b[43m_loadAllenStructureTree\u001b[49m\u001b[43m(\u001b[49m\u001b[43m)\u001b[49m\n\u001b[1;32m    182\u001b[0m structures \u001b[38;5;241m=\u001b[39m TREE\u001b[38;5;241m.\u001b[39mget_structures_by_id(ids)\n\u001b[1;32m    183\u001b[0m labels \u001b[38;5;241m=\u001b[39m [s[\u001b[38;5;124m'\u001b[39m\u001b[38;5;124macronym\u001b[39m\u001b[38;5;124m'\u001b[39m] \u001b[38;5;28;01mif\u001b[39;00m s \u001b[38;5;129;01mis\u001b[39;00m \u001b[38;5;129;01mnot\u001b[39;00m \u001b[38;5;28;01mNone\u001b[39;00m \u001b[38;5;28;01melse\u001b[39;00m \u001b[38;5;124m'\u001b[39m\u001b[38;5;124m'\u001b[39m \u001b[38;5;28;01mfor\u001b[39;00m s \u001b[38;5;129;01min\u001b[39;00m structures]\n",
      "File \u001b[0;32m~/Code/unit-localizer/unit_localizer/__init__.py:156\u001b[0m, in \u001b[0;36m_loadAllenStructureTree\u001b[0;34m()\u001b[0m\n\u001b[1;32m    152\u001b[0m \u001b[38;5;250m\u001b[39m\u001b[38;5;124;03m\"\"\"\u001b[39;00m\n\u001b[1;32m    153\u001b[0m \u001b[38;5;124;03mInstatiate a brain structure tree object\u001b[39;00m\n\u001b[1;32m    154\u001b[0m \u001b[38;5;124;03m\"\"\"\u001b[39;00m\n\u001b[1;32m    155\u001b[0m oapi \u001b[38;5;241m=\u001b[39m OntologiesApi()\n\u001b[0;32m--> 156\u001b[0m structureGraph \u001b[38;5;241m=\u001b[39m \u001b[43moapi\u001b[49m\u001b[38;5;241;43m.\u001b[39;49m\u001b[43mget_structures_with_sets\u001b[49m\u001b[43m(\u001b[49m\u001b[43m[\u001b[49m\u001b[38;5;241;43m1\u001b[39;49m\u001b[43m]\u001b[49m\u001b[43m,\u001b[49m\u001b[43m \u001b[49m\u001b[43mstrategy\u001b[49m\u001b[38;5;241;43m=\u001b[39;49m\u001b[38;5;28;43;01mNone\u001b[39;49;00m\u001b[43m)\u001b[49m  \u001b[38;5;66;03m# 1 is the id of the adult mouse structure graph\u001b[39;00m\n\u001b[1;32m    157\u001b[0m structureGraph \u001b[38;5;241m=\u001b[39m StructureTree\u001b[38;5;241m.\u001b[39mclean_structures(structureGraph)  \n\u001b[1;32m    158\u001b[0m \u001b[38;5;28;01mglobal\u001b[39;00m TREE\n",
      "File \u001b[0;32m~/anaconda3/envs/sandbox/lib/python3.10/site-packages/allensdk/api/warehouse_cache/cache.py:661\u001b[0m, in \u001b[0;36mcacheable.<locals>.decor.<locals>.w\u001b[0;34m(*args, **kwargs)\u001b[0m\n\u001b[1;32m    658\u001b[0m \u001b[38;5;28;01mif\u001b[39;00m decor\u001b[38;5;241m.\u001b[39mpost \u001b[38;5;129;01mand\u001b[39;00m \u001b[38;5;129;01mnot\u001b[39;00m \u001b[38;5;124m'\u001b[39m\u001b[38;5;124mpost in kwargs\u001b[39m\u001b[38;5;124m'\u001b[39m:\n\u001b[1;32m    659\u001b[0m     kwargs[\u001b[38;5;124m'\u001b[39m\u001b[38;5;124mpost\u001b[39m\u001b[38;5;124m'\u001b[39m] \u001b[38;5;241m=\u001b[39m decor\u001b[38;5;241m.\u001b[39mpost\n\u001b[0;32m--> 661\u001b[0m result \u001b[38;5;241m=\u001b[39m \u001b[43mCache\u001b[49m\u001b[38;5;241;43m.\u001b[39;49m\u001b[43mcacher\u001b[49m\u001b[43m(\u001b[49m\u001b[43mfunc\u001b[49m\u001b[43m,\u001b[49m\n\u001b[1;32m    662\u001b[0m \u001b[43m                      \u001b[49m\u001b[38;5;241;43m*\u001b[39;49m\u001b[43margs\u001b[49m\u001b[43m,\u001b[49m\n\u001b[1;32m    663\u001b[0m \u001b[43m                      \u001b[49m\u001b[38;5;241;43m*\u001b[39;49m\u001b[38;5;241;43m*\u001b[39;49m\u001b[43mkwargs\u001b[49m\u001b[43m)\u001b[49m\n\u001b[1;32m    664\u001b[0m \u001b[38;5;28;01mreturn\u001b[39;00m result\n",
      "File \u001b[0;32m~/anaconda3/envs/sandbox/lib/python3.10/site-packages/allensdk/api/warehouse_cache/cache.py:378\u001b[0m, in \u001b[0;36mCache.cacher\u001b[0;34m(fn, *args, **kwargs)\u001b[0m\n\u001b[1;32m    375\u001b[0m         strategy \u001b[38;5;241m=\u001b[39m \u001b[38;5;124m'\u001b[39m\u001b[38;5;124mcreate\u001b[39m\u001b[38;5;124m'\u001b[39m\n\u001b[1;32m    377\u001b[0m \u001b[38;5;28;01mif\u001b[39;00m strategy \u001b[38;5;241m==\u001b[39m \u001b[38;5;124m'\u001b[39m\u001b[38;5;124mpass_through\u001b[39m\u001b[38;5;124m'\u001b[39m:\n\u001b[0;32m--> 378\u001b[0m     data \u001b[38;5;241m=\u001b[39m \u001b[43mfn\u001b[49m\u001b[43m(\u001b[49m\u001b[38;5;241;43m*\u001b[39;49m\u001b[43margs\u001b[49m\u001b[43m,\u001b[49m\u001b[43m \u001b[49m\u001b[38;5;241;43m*\u001b[39;49m\u001b[38;5;241;43m*\u001b[39;49m\u001b[43mkwargs\u001b[49m\u001b[43m)\u001b[49m\n\u001b[1;32m    379\u001b[0m \u001b[38;5;28;01melif\u001b[39;00m strategy \u001b[38;5;129;01min\u001b[39;00m [\u001b[38;5;124m'\u001b[39m\u001b[38;5;124mcreate\u001b[39m\u001b[38;5;124m'\u001b[39m]:\n\u001b[1;32m    380\u001b[0m     Manifest\u001b[38;5;241m.\u001b[39msafe_make_parent_dirs(path)\n",
      "File \u001b[0;32m~/anaconda3/envs/sandbox/lib/python3.10/site-packages/allensdk/api/queries/ontologies_api.py:235\u001b[0m, in \u001b[0;36mOntologiesApi.get_structures_with_sets\u001b[0;34m(self, structure_graph_ids, order, num_rows, count, **kwargs)\u001b[0m\n\u001b[1;32m    214\u001b[0m \u001b[38;5;129m@cacheable\u001b[39m()\n\u001b[1;32m    215\u001b[0m \u001b[38;5;28;01mdef\u001b[39;00m\u001b[38;5;250m \u001b[39m\u001b[38;5;21mget_structures_with_sets\u001b[39m(\u001b[38;5;28mself\u001b[39m, structure_graph_ids, order\u001b[38;5;241m=\u001b[39m[\u001b[38;5;124m'\u001b[39m\u001b[38;5;124mstructures.graph_order\u001b[39m\u001b[38;5;124m'\u001b[39m], \n\u001b[1;32m    216\u001b[0m                              num_rows\u001b[38;5;241m=\u001b[39m\u001b[38;5;124m'\u001b[39m\u001b[38;5;124mall\u001b[39m\u001b[38;5;124m'\u001b[39m, count\u001b[38;5;241m=\u001b[39m\u001b[38;5;28;01mFalse\u001b[39;00m, \u001b[38;5;241m*\u001b[39m\u001b[38;5;241m*\u001b[39mkwargs):\n\u001b[1;32m    217\u001b[0m \u001b[38;5;250m    \u001b[39m\u001b[38;5;124;03m'''Download structures along with the sets to which they belong.\u001b[39;00m\n\u001b[1;32m    218\u001b[0m \n\u001b[1;32m    219\u001b[0m \u001b[38;5;124;03m    Parameters\u001b[39;00m\n\u001b[0;32m   (...)\u001b[0m\n\u001b[1;32m    232\u001b[0m \n\u001b[1;32m    233\u001b[0m \u001b[38;5;124;03m    '''\u001b[39;00m\n\u001b[0;32m--> 235\u001b[0m     \u001b[38;5;28;01mreturn\u001b[39;00m \u001b[38;5;28;43mself\u001b[39;49m\u001b[38;5;241;43m.\u001b[39;49m\u001b[43mtemplate_query\u001b[49m\u001b[43m(\u001b[49m\u001b[38;5;124;43m'\u001b[39;49m\u001b[38;5;124;43montology_queries\u001b[39;49m\u001b[38;5;124;43m'\u001b[39;49m\u001b[43m,\u001b[49m\u001b[43m \u001b[49m\u001b[38;5;124;43m'\u001b[39;49m\u001b[38;5;124;43mstructures_with_sets\u001b[39;49m\u001b[38;5;124;43m'\u001b[39;49m\u001b[43m,\u001b[49m\u001b[43m \u001b[49m\n\u001b[1;32m    236\u001b[0m \u001b[43m                               \u001b[49m\u001b[43mgraph_ids\u001b[49m\u001b[38;5;241;43m=\u001b[39;49m\u001b[43mstructure_graph_ids\u001b[49m\u001b[43m,\u001b[49m\u001b[43m \u001b[49m\n\u001b[1;32m    237\u001b[0m \u001b[43m                               \u001b[49m\u001b[43morder\u001b[49m\u001b[38;5;241;43m=\u001b[39;49m\u001b[43morder\u001b[49m\u001b[43m,\u001b[49m\u001b[43m \u001b[49m\u001b[43mnum_rows\u001b[49m\u001b[38;5;241;43m=\u001b[39;49m\u001b[43mnum_rows\u001b[49m\u001b[43m,\u001b[49m\u001b[43m \u001b[49m\n\u001b[1;32m    238\u001b[0m \u001b[43m                               \u001b[49m\u001b[43mcount\u001b[49m\u001b[38;5;241;43m=\u001b[39;49m\u001b[43mcount\u001b[49m\u001b[43m)\u001b[49m\n",
      "File \u001b[0;32m~/anaconda3/envs/sandbox/lib/python3.10/site-packages/allensdk/api/queries/rma_template.py:132\u001b[0m, in \u001b[0;36mRmaTemplate.template_query\u001b[0;34m(self, template_name, entry_name, **kwargs)\u001b[0m\n\u001b[1;32m    128\u001b[0m     query_args[\u001b[38;5;124m'\u001b[39m\u001b[38;5;124morder\u001b[39m\u001b[38;5;124m'\u001b[39m] \u001b[38;5;241m=\u001b[39m template[\u001b[38;5;124m'\u001b[39m\u001b[38;5;124morder\u001b[39m\u001b[38;5;124m'\u001b[39m]\n\u001b[1;32m    130\u001b[0m query_args\u001b[38;5;241m.\u001b[39mupdate(kwargs)\n\u001b[0;32m--> 132\u001b[0m data \u001b[38;5;241m=\u001b[39m \u001b[38;5;28;43mself\u001b[39;49m\u001b[38;5;241;43m.\u001b[39;49m\u001b[43mmodel_query\u001b[49m\u001b[43m(\u001b[49m\u001b[38;5;241;43m*\u001b[39;49m\u001b[38;5;241;43m*\u001b[39;49m\u001b[43mquery_args\u001b[49m\u001b[43m)\u001b[49m\n\u001b[1;32m    134\u001b[0m \u001b[38;5;28;01mreturn\u001b[39;00m data\n",
      "File \u001b[0;32m~/anaconda3/envs/sandbox/lib/python3.10/site-packages/allensdk/api/queries/rma_api.py:257\u001b[0m, in \u001b[0;36mRmaApi.model_query\u001b[0;34m(self, *args, **kwargs)\u001b[0m\n\u001b[1;32m    217\u001b[0m \u001b[38;5;28;01mdef\u001b[39;00m\u001b[38;5;250m \u001b[39m\u001b[38;5;21mmodel_query\u001b[39m(\u001b[38;5;28mself\u001b[39m, \u001b[38;5;241m*\u001b[39margs, \u001b[38;5;241m*\u001b[39m\u001b[38;5;241m*\u001b[39mkwargs):\n\u001b[1;32m    218\u001b[0m \u001b[38;5;250m    \u001b[39m\u001b[38;5;124;03m'''Construct and execute a model stage of an RMA query string.\u001b[39;00m\n\u001b[1;32m    219\u001b[0m \n\u001b[1;32m    220\u001b[0m \u001b[38;5;124;03m    Parameters\u001b[39;00m\n\u001b[0;32m   (...)\u001b[0m\n\u001b[1;32m    255\u001b[0m \u001b[38;5;124;03m    response, including the normalized query.\u001b[39;00m\n\u001b[1;32m    256\u001b[0m \u001b[38;5;124;03m    '''\u001b[39;00m\n\u001b[0;32m--> 257\u001b[0m     \u001b[38;5;28;01mreturn\u001b[39;00m \u001b[38;5;28;43mself\u001b[39;49m\u001b[38;5;241;43m.\u001b[39;49m\u001b[43mjson_msg_query\u001b[49m\u001b[43m(\u001b[49m\n\u001b[1;32m    258\u001b[0m \u001b[43m        \u001b[49m\u001b[38;5;28;43mself\u001b[39;49m\u001b[38;5;241;43m.\u001b[39;49m\u001b[43mbuild_query_url\u001b[49m\u001b[43m(\u001b[49m\n\u001b[1;32m    259\u001b[0m \u001b[43m            \u001b[49m\u001b[38;5;28;43mself\u001b[39;49m\u001b[38;5;241;43m.\u001b[39;49m\u001b[43mmodel_stage\u001b[49m\u001b[43m(\u001b[49m\u001b[38;5;241;43m*\u001b[39;49m\u001b[43margs\u001b[49m\u001b[43m,\u001b[49m\u001b[43m \u001b[49m\u001b[38;5;241;43m*\u001b[39;49m\u001b[38;5;241;43m*\u001b[39;49m\u001b[43mkwargs\u001b[49m\u001b[43m)\u001b[49m\u001b[43m)\u001b[49m\u001b[43m)\u001b[49m\n",
      "File \u001b[0;32m~/anaconda3/envs/sandbox/lib/python3.10/site-packages/allensdk/api/api.py:164\u001b[0m, in \u001b[0;36mApi.json_msg_query\u001b[0;34m(self, url, dataframe)\u001b[0m\n\u001b[1;32m    147\u001b[0m \u001b[38;5;28;01mdef\u001b[39;00m\u001b[38;5;250m \u001b[39m\u001b[38;5;21mjson_msg_query\u001b[39m(\u001b[38;5;28mself\u001b[39m, url, dataframe\u001b[38;5;241m=\u001b[39m\u001b[38;5;28;01mFalse\u001b[39;00m):\n\u001b[1;32m    148\u001b[0m \u001b[38;5;250m    \u001b[39m\u001b[38;5;124;03m''' Common case where the url is fully constructed\u001b[39;00m\n\u001b[1;32m    149\u001b[0m \u001b[38;5;124;03m        and the response data is stored in the 'msg' field.\u001b[39;00m\n\u001b[1;32m    150\u001b[0m \n\u001b[0;32m   (...)\u001b[0m\n\u001b[1;32m    161\u001b[0m \u001b[38;5;124;03m        returned data; type depends on dataframe option\u001b[39;00m\n\u001b[1;32m    162\u001b[0m \u001b[38;5;124;03m    '''\u001b[39;00m\n\u001b[0;32m--> 164\u001b[0m     data \u001b[38;5;241m=\u001b[39m \u001b[38;5;28;43mself\u001b[39;49m\u001b[38;5;241;43m.\u001b[39;49m\u001b[43mdo_query\u001b[49m\u001b[43m(\u001b[49m\u001b[38;5;28;43;01mlambda\u001b[39;49;00m\u001b[43m \u001b[49m\u001b[38;5;241;43m*\u001b[39;49m\u001b[43ma\u001b[49m\u001b[43m,\u001b[49m\u001b[43m \u001b[49m\u001b[38;5;241;43m*\u001b[39;49m\u001b[38;5;241;43m*\u001b[39;49m\u001b[43mk\u001b[49m\u001b[43m:\u001b[49m\u001b[43m \u001b[49m\u001b[43murl\u001b[49m\u001b[43m,\u001b[49m\n\u001b[1;32m    165\u001b[0m \u001b[43m                         \u001b[49m\u001b[38;5;28;43mself\u001b[39;49m\u001b[38;5;241;43m.\u001b[39;49m\u001b[43mread_data\u001b[49m\u001b[43m)\u001b[49m\n\u001b[1;32m    167\u001b[0m     \u001b[38;5;28;01mif\u001b[39;00m dataframe \u001b[38;5;129;01mis\u001b[39;00m \u001b[38;5;28;01mTrue\u001b[39;00m:\n\u001b[1;32m    168\u001b[0m         warnings\u001b[38;5;241m.\u001b[39mwarn(\u001b[38;5;124m\"\u001b[39m\u001b[38;5;124mdataframe argument is deprecated\u001b[39m\u001b[38;5;124m\"\u001b[39m, \u001b[38;5;167;01mDeprecationWarning\u001b[39;00m)\n",
      "File \u001b[0;32m~/anaconda3/envs/sandbox/lib/python3.10/site-packages/allensdk/api/api.py:204\u001b[0m, in \u001b[0;36mApi.do_query\u001b[0;34m(self, url_builder_fn, json_traversal_fn, *args, **kwargs)\u001b[0m\n\u001b[1;32m    200\u001b[0m api_url \u001b[38;5;241m=\u001b[39m url_builder_fn(\u001b[38;5;241m*\u001b[39margs, \u001b[38;5;241m*\u001b[39m\u001b[38;5;241m*\u001b[39mkwargs)\n\u001b[1;32m    202\u001b[0m post \u001b[38;5;241m=\u001b[39m kwargs\u001b[38;5;241m.\u001b[39mget(\u001b[38;5;124m'\u001b[39m\u001b[38;5;124mpost\u001b[39m\u001b[38;5;124m'\u001b[39m, \u001b[38;5;28;01mFalse\u001b[39;00m)\n\u001b[0;32m--> 204\u001b[0m json_parsed_data \u001b[38;5;241m=\u001b[39m \u001b[38;5;28;43mself\u001b[39;49m\u001b[38;5;241;43m.\u001b[39;49m\u001b[43mretrieve_parsed_json_over_http\u001b[49m\u001b[43m(\u001b[49m\u001b[43mapi_url\u001b[49m\u001b[43m,\u001b[49m\u001b[43m \u001b[49m\u001b[43mpost\u001b[49m\u001b[43m)\u001b[49m\n\u001b[1;32m    206\u001b[0m \u001b[38;5;28;01mreturn\u001b[39;00m json_traversal_fn(json_parsed_data)\n",
      "File \u001b[0;32m~/anaconda3/envs/sandbox/lib/python3.10/site-packages/allensdk/api/api.py:369\u001b[0m, in \u001b[0;36mApi.retrieve_parsed_json_over_http\u001b[0;34m(self, url, post)\u001b[0m\n\u001b[1;32m    366\u001b[0m \u001b[38;5;28mself\u001b[39m\u001b[38;5;241m.\u001b[39m_log\u001b[38;5;241m.\u001b[39minfo(\u001b[38;5;124m\"\u001b[39m\u001b[38;5;124mDownloading URL: \u001b[39m\u001b[38;5;132;01m%s\u001b[39;00m\u001b[38;5;124m\"\u001b[39m, url)\n\u001b[1;32m    368\u001b[0m \u001b[38;5;28;01mif\u001b[39;00m post \u001b[38;5;129;01mis\u001b[39;00m \u001b[38;5;28;01mFalse\u001b[39;00m:\n\u001b[0;32m--> 369\u001b[0m     data \u001b[38;5;241m=\u001b[39m \u001b[43mjson_utilities\u001b[49m\u001b[38;5;241;43m.\u001b[39;49m\u001b[43mread_url_get\u001b[49m\u001b[43m(\u001b[49m\n\u001b[1;32m    370\u001b[0m \u001b[43m        \u001b[49m\u001b[43mrequests\u001b[49m\u001b[38;5;241;43m.\u001b[39;49m\u001b[43mutils\u001b[49m\u001b[38;5;241;43m.\u001b[39;49m\u001b[43mquote\u001b[49m\u001b[43m(\u001b[49m\u001b[43murl\u001b[49m\u001b[43m,\u001b[49m\n\u001b[1;32m    371\u001b[0m \u001b[43m                             \u001b[49m\u001b[38;5;124;43m'\u001b[39;49m\u001b[38;5;124;43m;/?:@&=+$,\u001b[39;49m\u001b[38;5;124;43m'\u001b[39;49m\u001b[43m)\u001b[49m\u001b[43m)\u001b[49m\n\u001b[1;32m    372\u001b[0m \u001b[38;5;28;01melse\u001b[39;00m:\n\u001b[1;32m    373\u001b[0m     data \u001b[38;5;241m=\u001b[39m json_utilities\u001b[38;5;241m.\u001b[39mread_url_post(url)\n",
      "File \u001b[0;32m~/anaconda3/envs/sandbox/lib/python3.10/site-packages/allensdk/core/json_utilities.py:118\u001b[0m, in \u001b[0;36mread_url_get\u001b[0;34m(url)\u001b[0m\n\u001b[1;32m    115\u001b[0m response \u001b[38;5;241m=\u001b[39m urllib_request\u001b[38;5;241m.\u001b[39murlopen(url)\n\u001b[1;32m    116\u001b[0m json_string \u001b[38;5;241m=\u001b[39m response\u001b[38;5;241m.\u001b[39mread()\u001b[38;5;241m.\u001b[39mdecode(\u001b[38;5;124m\"\u001b[39m\u001b[38;5;124mutf-8\u001b[39m\u001b[38;5;124m\"\u001b[39m)\n\u001b[0;32m--> 118\u001b[0m \u001b[38;5;28;01mreturn\u001b[39;00m \u001b[43mjson\u001b[49m\u001b[38;5;241;43m.\u001b[39;49m\u001b[43mloads\u001b[49m\u001b[43m(\u001b[49m\u001b[43mjson_string\u001b[49m\u001b[43m)\u001b[49m\n",
      "File \u001b[0;32m~/anaconda3/envs/sandbox/lib/python3.10/site-packages/simplejson/__init__.py:514\u001b[0m, in \u001b[0;36mloads\u001b[0;34m(s, encoding, cls, object_hook, parse_float, parse_int, parse_constant, object_pairs_hook, use_decimal, allow_nan, **kw)\u001b[0m\n\u001b[1;32m    462\u001b[0m \u001b[38;5;250m\u001b[39m\u001b[38;5;124;03m\"\"\"Deserialize ``s`` (a ``str`` or ``unicode`` instance containing a JSON\u001b[39;00m\n\u001b[1;32m    463\u001b[0m \u001b[38;5;124;03mdocument) to a Python object.\u001b[39;00m\n\u001b[1;32m    464\u001b[0m \n\u001b[0;32m   (...)\u001b[0m\n\u001b[1;32m    508\u001b[0m \n\u001b[1;32m    509\u001b[0m \u001b[38;5;124;03m\"\"\"\u001b[39;00m\n\u001b[1;32m    510\u001b[0m \u001b[38;5;28;01mif\u001b[39;00m (\u001b[38;5;28mcls\u001b[39m \u001b[38;5;129;01mis\u001b[39;00m \u001b[38;5;28;01mNone\u001b[39;00m \u001b[38;5;129;01mand\u001b[39;00m encoding \u001b[38;5;129;01mis\u001b[39;00m \u001b[38;5;28;01mNone\u001b[39;00m \u001b[38;5;129;01mand\u001b[39;00m object_hook \u001b[38;5;129;01mis\u001b[39;00m \u001b[38;5;28;01mNone\u001b[39;00m \u001b[38;5;129;01mand\u001b[39;00m\n\u001b[1;32m    511\u001b[0m         parse_int \u001b[38;5;129;01mis\u001b[39;00m \u001b[38;5;28;01mNone\u001b[39;00m \u001b[38;5;129;01mand\u001b[39;00m parse_float \u001b[38;5;129;01mis\u001b[39;00m \u001b[38;5;28;01mNone\u001b[39;00m \u001b[38;5;129;01mand\u001b[39;00m\n\u001b[1;32m    512\u001b[0m         parse_constant \u001b[38;5;129;01mis\u001b[39;00m \u001b[38;5;28;01mNone\u001b[39;00m \u001b[38;5;129;01mand\u001b[39;00m object_pairs_hook \u001b[38;5;129;01mis\u001b[39;00m \u001b[38;5;28;01mNone\u001b[39;00m\n\u001b[1;32m    513\u001b[0m         \u001b[38;5;129;01mand\u001b[39;00m \u001b[38;5;129;01mnot\u001b[39;00m use_decimal \u001b[38;5;129;01mand\u001b[39;00m \u001b[38;5;129;01mnot\u001b[39;00m allow_nan \u001b[38;5;129;01mand\u001b[39;00m \u001b[38;5;129;01mnot\u001b[39;00m kw):\n\u001b[0;32m--> 514\u001b[0m     \u001b[38;5;28;01mreturn\u001b[39;00m \u001b[43m_default_decoder\u001b[49m\u001b[38;5;241;43m.\u001b[39;49m\u001b[43mdecode\u001b[49m\u001b[43m(\u001b[49m\u001b[43ms\u001b[49m\u001b[43m)\u001b[49m\n\u001b[1;32m    515\u001b[0m \u001b[38;5;28;01mif\u001b[39;00m \u001b[38;5;28mcls\u001b[39m \u001b[38;5;129;01mis\u001b[39;00m \u001b[38;5;28;01mNone\u001b[39;00m:\n\u001b[1;32m    516\u001b[0m     \u001b[38;5;28mcls\u001b[39m \u001b[38;5;241m=\u001b[39m JSONDecoder\n",
      "File \u001b[0;32m~/anaconda3/envs/sandbox/lib/python3.10/site-packages/simplejson/decoder.py:386\u001b[0m, in \u001b[0;36mJSONDecoder.decode\u001b[0;34m(self, s, _w, _PY3)\u001b[0m\n\u001b[1;32m    384\u001b[0m \u001b[38;5;28;01mif\u001b[39;00m _PY3 \u001b[38;5;129;01mand\u001b[39;00m \u001b[38;5;28misinstance\u001b[39m(s, \u001b[38;5;28mbytes\u001b[39m):\n\u001b[1;32m    385\u001b[0m     s \u001b[38;5;241m=\u001b[39m \u001b[38;5;28mstr\u001b[39m(s, \u001b[38;5;28mself\u001b[39m\u001b[38;5;241m.\u001b[39mencoding)\n\u001b[0;32m--> 386\u001b[0m obj, end \u001b[38;5;241m=\u001b[39m \u001b[38;5;28;43mself\u001b[39;49m\u001b[38;5;241;43m.\u001b[39;49m\u001b[43mraw_decode\u001b[49m\u001b[43m(\u001b[49m\u001b[43ms\u001b[49m\u001b[43m)\u001b[49m\n\u001b[1;32m    387\u001b[0m end \u001b[38;5;241m=\u001b[39m _w(s, end)\u001b[38;5;241m.\u001b[39mend()\n\u001b[1;32m    388\u001b[0m \u001b[38;5;28;01mif\u001b[39;00m end \u001b[38;5;241m!=\u001b[39m \u001b[38;5;28mlen\u001b[39m(s):\n",
      "File \u001b[0;32m~/anaconda3/envs/sandbox/lib/python3.10/site-packages/simplejson/decoder.py:416\u001b[0m, in \u001b[0;36mJSONDecoder.raw_decode\u001b[0;34m(self, s, idx, _w, _PY3)\u001b[0m\n\u001b[1;32m    414\u001b[0m     \u001b[38;5;28;01melif\u001b[39;00m ord0 \u001b[38;5;241m==\u001b[39m \u001b[38;5;241m0xef\u001b[39m \u001b[38;5;129;01mand\u001b[39;00m s[idx:idx \u001b[38;5;241m+\u001b[39m \u001b[38;5;241m3\u001b[39m] \u001b[38;5;241m==\u001b[39m \u001b[38;5;124m'\u001b[39m\u001b[38;5;130;01m\\xef\u001b[39;00m\u001b[38;5;130;01m\\xbb\u001b[39;00m\u001b[38;5;130;01m\\xbf\u001b[39;00m\u001b[38;5;124m'\u001b[39m:\n\u001b[1;32m    415\u001b[0m         idx \u001b[38;5;241m+\u001b[39m\u001b[38;5;241m=\u001b[39m \u001b[38;5;241m3\u001b[39m\n\u001b[0;32m--> 416\u001b[0m \u001b[38;5;28;01mreturn\u001b[39;00m \u001b[38;5;28;43mself\u001b[39;49m\u001b[38;5;241;43m.\u001b[39;49m\u001b[43mscan_once\u001b[49m\u001b[43m(\u001b[49m\u001b[43ms\u001b[49m\u001b[43m,\u001b[49m\u001b[43m \u001b[49m\u001b[43midx\u001b[49m\u001b[38;5;241;43m=\u001b[39;49m\u001b[43m_w\u001b[49m\u001b[43m(\u001b[49m\u001b[43ms\u001b[49m\u001b[43m,\u001b[49m\u001b[43m \u001b[49m\u001b[43midx\u001b[49m\u001b[43m)\u001b[49m\u001b[38;5;241;43m.\u001b[39;49m\u001b[43mend\u001b[49m\u001b[43m(\u001b[49m\u001b[43m)\u001b[49m\u001b[43m)\u001b[49m\n",
      "\u001b[0;31mJSONDecodeError\u001b[0m: Expecting value: line 1 column 1 (char 0)"
     ]
    }
   ],
   "source": [
    "for base in fileList:\n",
    "    h5file = os.path.join(base, 'output.hdf')\n",
    "    clusterFile = os.path.join(base,'ephys/sorting/manual/spike_clusters.npy')\n",
    "    premotorUnits = definePremotorPopulation(h5file, clusterFile)\n",
    "    visualUnits = defineVisualPopulation(h5file, clusterFile)\n",
    "    print(premotorUnits)\n",
    "    print(visualUnits)"
   ]
  },
  {
   "cell_type": "code",
   "execution_count": 6,
   "id": "3935d6fd",
   "metadata": {},
   "outputs": [
    {
     "name": "stdout",
     "output_type": "stream",
     "text": [
      "[-2.861279517351594, -2.8463486364687745, -3.16619229468329, -3.187677750296557, -3.1686998294079243, -2.9499225830455402, -2.763725153376696, -2.249013213360768, -3.48577838108964, -3.4906390272469476, -3.53679025781901, -2.9486707040099813, -2.993416087950256, -2.5973184032853363, -2.67975705415683, -3.2009794157893365, 0.4534397671729229, 0.3239741257406733, 0.12155619890422617, 0.1818219566842989, 0.1412319495945511] [9.246746819355941, 14.807534660375481, -0.29312804304030127, 6.266473589923149, 12.337999885458423, -2.3242131750010953, -0.5651904993089957, 1.402196111543709, -0.8323121417861616, 6.203787168846832, 8.811574527256555, 9.214796104650448, 1.6067837620155299, 16.123865627300535, 3.1652300212611175, 8.380720773887933, 3.0484696549747783, -6.193584366047802, -5.6538099692241275, -1.823747284088594, -4.299723507975522]\n"
     ]
    }
   ],
   "source": [
    "for base in fileList[0:1]:\n",
    "    h5file = os.path.join(base, 'output.hdf')\n",
    "    driven, spontaneous = parseSaccadeType(h5file)\n",
    "    amplitudes = calculateSaccadeAmplitudes(h5file, spontaneous)\n",
    "    starts = calculateSaccadeStartPoint(h5file, spontaneous)\n",
    "    ends = calculateSaccadeEndPoint(h5file, spontaneous)\n",
    "    print(starts, ends)\n",
    "    #print(amplitudes)"
   ]
  },
  {
   "cell_type": "code",
   "execution_count": 29,
   "id": "20ddd7d6",
   "metadata": {},
   "outputs": [],
   "source": [
    "session = AnalysisObject(h5file)\n",
    "totalSaccadeTimes = session.load('saccades/predicted/left/timestamps')[:, 0]"
   ]
  },
  {
   "cell_type": "code",
   "execution_count": 34,
   "id": "13427c8f",
   "metadata": {},
   "outputs": [
    {
     "name": "stdout",
     "output_type": "stream",
     "text": [
      "[620]\n",
      "[658]\n",
      "[723]\n",
      "[831]\n",
      "[905]\n",
      "[906]\n",
      "[907]\n",
      "[1049]\n",
      "[1107]\n",
      "[1265]\n",
      "[1565]\n",
      "[1820]\n",
      "[1846]\n",
      "[1911]\n",
      "[1938]\n",
      "[1981]\n",
      "[1982]\n",
      "[1983]\n",
      "[1984]\n",
      "[2050]\n",
      "[2141]\n"
     ]
    }
   ],
   "source": [
    "import numpy as np\n",
    "for time in spontaneous:\n",
    "    print(np.where(totalSaccadeTimes == time)[0])\n"
   ]
  },
  {
   "cell_type": "code",
   "execution_count": 44,
   "id": "4cdbfe18",
   "metadata": {},
   "outputs": [],
   "source": [
    "bins = np.arange(-0.5, 0.6, 0.1)\n",
    "session = AnalysisObject(h5file)\n",
    "population = session._population()\n",
    "unitList = list()\n",
    "for unit in population:\n",
    "    unitList.append(unit.cluster)\n",
    "trials = session.load('saccades/predicted/left/timestamps')[:, 0]\n",
    "trialList = createTrialArray(h5file, bins, unitList, trials)"
   ]
  },
  {
   "cell_type": "code",
   "execution_count": 52,
   "id": "9d0c9e20",
   "metadata": {},
   "outputs": [],
   "source": [
    "t_type_ind, trial_types = specifyTrialTypes(h5file, saccade=True)\n",
    "pcs = trialAveragedPCA(trialList, t_type_ind, trial_types, 10)"
   ]
  },
  {
   "cell_type": "code",
   "execution_count": 53,
   "id": "f6fbcb08",
   "metadata": {},
   "outputs": [
    {
     "data": {
      "text/plain": [
       "(10, 10, 2)"
      ]
     },
     "execution_count": 53,
     "metadata": {},
     "output_type": "execute_result"
    }
   ],
   "source": [
    "pcs.shape"
   ]
  },
  {
   "cell_type": "code",
   "execution_count": 79,
   "id": "361d9feb",
   "metadata": {},
   "outputs": [
    {
     "data": {
      "text/plain": [
       "<interface.ephys.Population at 0x7f0307163e50>"
      ]
     },
     "execution_count": 79,
     "metadata": {},
     "output_type": "execute_result"
    }
   ],
   "source": [
    "session._population"
   ]
  },
  {
   "cell_type": "code",
   "execution_count": null,
   "id": "0e50854f",
   "metadata": {},
   "outputs": [],
   "source": []
  }
 ],
 "metadata": {
  "kernelspec": {
   "display_name": "Python 3 (ipykernel)",
   "language": "python",
   "name": "python3"
  },
  "language_info": {
   "codemirror_mode": {
    "name": "ipython",
    "version": 3
   },
   "file_extension": ".py",
   "mimetype": "text/x-python",
   "name": "python",
   "nbconvert_exporter": "python",
   "pygments_lexer": "ipython3",
   "version": "3.10.6"
  }
 },
 "nbformat": 4,
 "nbformat_minor": 5
}
