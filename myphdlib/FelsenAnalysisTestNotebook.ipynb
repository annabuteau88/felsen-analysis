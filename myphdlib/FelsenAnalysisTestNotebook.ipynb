{
 "cells": [
  {
   "cell_type": "code",
   "execution_count": 4,
   "id": "714159d4",
   "metadata": {},
   "outputs": [
    {
     "name": "stdout",
     "output_type": "stream",
     "text": [
      "The autoreload extension is already loaded. To reload it, use:\n",
      "  %reload_ext autoreload\n"
     ]
    }
   ],
   "source": [
    "%load_ext autoreload\n",
    "%autoreload 2\n"
   ]
  },
  {
   "cell_type": "code",
   "execution_count": 12,
   "id": "b4a50921",
   "metadata": {},
   "outputs": [],
   "source": [
    "from toolkit.populations import definePremotorPopulation\n",
    "from toolkit.populations import defineVisualPopulation\n",
    "import os"
   ]
  },
  {
   "cell_type": "code",
   "execution_count": 10,
   "id": "fab6cf78",
   "metadata": {},
   "outputs": [],
   "source": [
    "fileList = ['/media/jbhunt/Seagate Portable Drive/2023-07-31/mlati10',\n",
    "           '/media/jbhunt/Seagate Portable Drive/2023-07-24/mlati9',\n",
    "             '/media/jbhunt/Seagate Portable Drive/2023-07-25/mlati10',\n",
    "             '/media/jbhunt/Seagate Portable Drive/2023-07-26/mlati9',\n",
    "             '/media/jbhunt/Seagate Portable Drive/2023-07-27/mlati10',\n",
    "             '/media/jbhunt/Seagate Portable Drive/2023-07-28/mlati9',\n",
    "             '/media/jbhunt/Seagate Portable Drive/2023-07-31/mlati10',\n",
    "             '/media/jbhunt/Seagate Portable Drive/2023-08-01/mlati10']"
   ]
  },
  {
   "cell_type": "code",
   "execution_count": 14,
   "id": "9ae5e9bc",
   "metadata": {},
   "outputs": [
    {
     "name": "stdout",
     "output_type": "stream",
     "text": [
      "[328, 340, 389, 395, 396, 421, 486, 487, 508, 527, 529]\n",
      "[369, 389, 421, 437, 461, 487, 522, 527, 529, 554, 572]\n",
      "[160, 161, 169, 174, 178, 186, 187, 189, 206, 213, 240, 255, 262, 276, 286, 290, 301, 312, 313, 325, 326, 334]\n",
      "[118, 153, 160, 161, 169, 174, 213, 276, 286, 301, 313, 325, 326, 334]\n",
      "[104, 219, 221, 230, 231, 237, 242, 266, 267, 268, 299, 303, 309, 320, 321, 322, 327, 329, 376, 413, 420]\n",
      "[109, 231, 237, 242, 266, 267, 268, 299, 303, 309, 322, 378, 413, 420, 423, 435, 437]\n",
      "[142, 164, 239, 262, 279, 290, 311]\n",
      "[150, 163, 177, 194, 207, 208, 214, 239, 262, 275, 276, 279, 289, 302, 306, 308, 311, 323]\n",
      "[83, 86, 87, 93, 97, 98, 99, 101, 102, 103, 104, 120, 121, 125, 127, 129, 133, 134, 135, 142, 150, 152, 153, 154, 158, 163, 177, 185, 186, 188, 189, 194, 196, 206, 209, 217, 220, 222, 234, 237]\n",
      "[83, 86, 93, 97, 98, 99, 101, 120, 122, 125, 127, 129, 133, 135, 150, 153, 158, 163, 183, 185, 194, 202, 209, 224, 237]\n",
      "[256, 260, 261, 271, 274, 275, 290, 298, 299, 300, 307, 313, 315, 320, 329]\n",
      "[235, 256, 274, 299, 300, 307, 320, 329, 333]\n",
      "[328, 340, 389, 395, 396, 421, 486, 487, 508, 527, 529]\n",
      "[369, 389, 421, 437, 461, 487, 522, 527, 529, 554, 572]\n",
      "[257, 259, 263, 265, 277, 288, 289, 290, 294, 305, 312, 313, 315, 316, 322, 332, 334, 340, 345]\n",
      "[257, 261, 263, 287, 288, 290, 294, 315, 333, 367]\n"
     ]
    }
   ],
   "source": [
    "for base in fileList:\n",
    "    h5file = os.path.join(base, 'output.hdf')\n",
    "    clusterFile = os.path.join(base,'ephys/sorting/manual/spike_clusters.npy')\n",
    "    premotorUnits = definePremotorPopulation(h5file, clusterFile)\n",
    "    visualUnits = defineVisualPopulation(h5file, clusterFile)\n",
    "    print(premotorUnits)\n",
    "    print(visualUnits)"
   ]
  },
  {
   "cell_type": "code",
   "execution_count": 9,
   "id": "eac16dde",
   "metadata": {},
   "outputs": [
    {
     "data": {
      "text/plain": [
       "[328, 340, 389, 395, 396, 421, 486, 487, 508, 527, 529]"
      ]
     },
     "execution_count": 9,
     "metadata": {},
     "output_type": "execute_result"
    }
   ],
   "source": [
    "premotorUnits"
   ]
  },
  {
   "cell_type": "code",
   "execution_count": null,
   "id": "3ed6546c",
   "metadata": {},
   "outputs": [],
   "source": []
  }
 ],
 "metadata": {
  "kernelspec": {
   "display_name": "Python 3 (ipykernel)",
   "language": "python",
   "name": "python3"
  },
  "language_info": {
   "codemirror_mode": {
    "name": "ipython",
    "version": 3
   },
   "file_extension": ".py",
   "mimetype": "text/x-python",
   "name": "python",
   "nbconvert_exporter": "python",
   "pygments_lexer": "ipython3",
   "version": "3.10.6"
  }
 },
 "nbformat": 4,
 "nbformat_minor": 5
}
