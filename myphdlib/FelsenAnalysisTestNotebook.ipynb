{
 "cells": [
  {
   "cell_type": "code",
   "execution_count": 4,
   "id": "714159d4",
   "metadata": {},
   "outputs": [
    {
     "name": "stdout",
     "output_type": "stream",
     "text": [
      "The autoreload extension is already loaded. To reload it, use:\n",
      "  %reload_ext autoreload\n"
     ]
    }
   ],
   "source": [
    "%load_ext autoreload\n",
    "%autoreload 2\n"
   ]
  },
  {
   "cell_type": "code",
   "execution_count": 42,
   "id": "1f452cee",
   "metadata": {},
   "outputs": [],
   "source": [
    "from toolkit.process import AnalysisObject\n",
    "from toolkit.populations import definePremotorPopulation\n",
    "from toolkit.populations import defineVisualPopulation\n",
    "from toolkit.saccades import parseSaccadeType\n",
    "from toolkit.saccades import calculateSaccadeAmplitudes\n",
    "from toolkit.saccades import calculateSaccadeStartPoint\n",
    "from toolkit.saccades import calculateSaccadeEndPoint\n",
    "import os"
   ]
  },
  {
   "cell_type": "code",
   "execution_count": 10,
   "id": "b64ac4c4",
   "metadata": {},
   "outputs": [],
   "source": [
    "fileList = ['/media/jbhunt/Seagate Portable Drive/2023-07-31/mlati10',\n",
    "           '/media/jbhunt/Seagate Portable Drive/2023-07-24/mlati9',\n",
    "             '/media/jbhunt/Seagate Portable Drive/2023-07-25/mlati10',\n",
    "             '/media/jbhunt/Seagate Portable Drive/2023-07-26/mlati9',\n",
    "             '/media/jbhunt/Seagate Portable Drive/2023-07-27/mlati10',\n",
    "             '/media/jbhunt/Seagate Portable Drive/2023-07-28/mlati9',\n",
    "             '/media/jbhunt/Seagate Portable Drive/2023-07-31/mlati10',\n",
    "             '/media/jbhunt/Seagate Portable Drive/2023-08-01/mlati10']"
   ]
  },
  {
   "cell_type": "code",
   "execution_count": 14,
   "id": "9ae5e9bc",
   "metadata": {},
   "outputs": [
    {
     "name": "stdout",
     "output_type": "stream",
     "text": [
      "[328, 340, 389, 395, 396, 421, 486, 487, 508, 527, 529]\n",
      "[369, 389, 421, 437, 461, 487, 522, 527, 529, 554, 572]\n",
      "[160, 161, 169, 174, 178, 186, 187, 189, 206, 213, 240, 255, 262, 276, 286, 290, 301, 312, 313, 325, 326, 334]\n",
      "[118, 153, 160, 161, 169, 174, 213, 276, 286, 301, 313, 325, 326, 334]\n",
      "[104, 219, 221, 230, 231, 237, 242, 266, 267, 268, 299, 303, 309, 320, 321, 322, 327, 329, 376, 413, 420]\n",
      "[109, 231, 237, 242, 266, 267, 268, 299, 303, 309, 322, 378, 413, 420, 423, 435, 437]\n",
      "[142, 164, 239, 262, 279, 290, 311]\n",
      "[150, 163, 177, 194, 207, 208, 214, 239, 262, 275, 276, 279, 289, 302, 306, 308, 311, 323]\n",
      "[83, 86, 87, 93, 97, 98, 99, 101, 102, 103, 104, 120, 121, 125, 127, 129, 133, 134, 135, 142, 150, 152, 153, 154, 158, 163, 177, 185, 186, 188, 189, 194, 196, 206, 209, 217, 220, 222, 234, 237]\n",
      "[83, 86, 93, 97, 98, 99, 101, 120, 122, 125, 127, 129, 133, 135, 150, 153, 158, 163, 183, 185, 194, 202, 209, 224, 237]\n",
      "[256, 260, 261, 271, 274, 275, 290, 298, 299, 300, 307, 313, 315, 320, 329]\n",
      "[235, 256, 274, 299, 300, 307, 320, 329, 333]\n",
      "[328, 340, 389, 395, 396, 421, 486, 487, 508, 527, 529]\n",
      "[369, 389, 421, 437, 461, 487, 522, 527, 529, 554, 572]\n",
      "[257, 259, 263, 265, 277, 288, 289, 290, 294, 305, 312, 313, 315, 316, 322, 332, 334, 340, 345]\n",
      "[257, 261, 263, 287, 288, 290, 294, 315, 333, 367]\n"
     ]
    }
   ],
   "source": [
    "for base in fileList:\n",
    "    h5file = os.path.join(base, 'output.hdf')\n",
    "    clusterFile = os.path.join(base,'ephys/sorting/manual/spike_clusters.npy')\n",
    "    premotorUnits = definePremotorPopulation(h5file, clusterFile)\n",
    "    visualUnits = defineVisualPopulation(h5file, clusterFile)\n",
    "    print(premotorUnits)\n",
    "    print(visualUnits)"
   ]
  },
  {
   "cell_type": "code",
   "execution_count": 49,
   "id": "4837e04c",
   "metadata": {},
   "outputs": [
    {
     "name": "stdout",
     "output_type": "stream",
     "text": [
      "[-2.861279517351594, -2.8463486364687745, -3.16619229468329, -3.187677750296557, -3.1686998294079243, -2.9499225830455402, -2.763725153376696, -2.249013213360768, -3.48577838108964, -3.4906390272469476, -3.53679025781901, -2.9486707040099813, -2.993416087950256, -2.5973184032853363, -2.67975705415683, -3.2009794157893365, 0.4534397671729229, 0.3239741257406733, 0.12155619890422617, 0.1818219566842989, 0.1412319495945511] [9.246746819355941, 14.807534660375481, -0.29312804304030127, 6.266473589923149, 12.337999885458423, -2.3242131750010953, -0.5651904993089957, 1.402196111543709, -0.8323121417861616, 6.203787168846832, 8.811574527256555, 9.214796104650448, 1.6067837620155299, 16.123865627300535, 3.1652300212611175, 8.380720773887933, 3.0484696549747783, -6.193584366047802, -5.6538099692241275, -1.823747284088594, -4.299723507975522]\n"
     ]
    }
   ],
   "source": [
    "for base in fileList[0:1]:\n",
    "    h5file = os.path.join(base, 'output.hdf')\n",
    "    driven, spontaneous = parseSaccadeType(h5file)\n",
    "    amplitudes = calculateSaccadeAmplitudes(h5file, spontaneous)\n",
    "    starts = calculateSaccadeStartPoint(h5file, spontaneous)\n",
    "    ends = calculateSaccadeEndPoint(h5file, spontaneous)\n",
    "    print(starts, ends)\n",
    "    #print(amplitudes)"
   ]
  },
  {
   "cell_type": "code",
   "execution_count": 29,
   "id": "82ae646b",
   "metadata": {},
   "outputs": [],
   "source": [
    "session = AnalysisObject(h5file)\n",
    "totalSaccadeTimes = session.load('saccades/predicted/left/timestamps')[:, 0]"
   ]
  },
  {
   "cell_type": "code",
   "execution_count": 34,
   "id": "01206fd6",
   "metadata": {},
   "outputs": [
    {
     "name": "stdout",
     "output_type": "stream",
     "text": [
      "[620]\n",
      "[658]\n",
      "[723]\n",
      "[831]\n",
      "[905]\n",
      "[906]\n",
      "[907]\n",
      "[1049]\n",
      "[1107]\n",
      "[1265]\n",
      "[1565]\n",
      "[1820]\n",
      "[1846]\n",
      "[1911]\n",
      "[1938]\n",
      "[1981]\n",
      "[1982]\n",
      "[1983]\n",
      "[1984]\n",
      "[2050]\n",
      "[2141]\n"
     ]
    }
   ],
   "source": [
    "import numpy as np\n",
    "for time in spontaneous:\n",
    "    print(np.where(totalSaccadeTimes == time)[0])\n"
   ]
  },
  {
   "cell_type": "code",
   "execution_count": null,
   "id": "b897e99a",
   "metadata": {},
   "outputs": [],
   "source": []
  }
 ],
 "metadata": {
  "kernelspec": {
   "display_name": "Python 3 (ipykernel)",
   "language": "python",
   "name": "python3"
  },
  "language_info": {
   "codemirror_mode": {
    "name": "ipython",
    "version": 3
   },
   "file_extension": ".py",
   "mimetype": "text/x-python",
   "name": "python",
   "nbconvert_exporter": "python",
   "pygments_lexer": "ipython3",
   "version": "3.10.6"
  }
 },
 "nbformat": 4,
 "nbformat_minor": 5
}
