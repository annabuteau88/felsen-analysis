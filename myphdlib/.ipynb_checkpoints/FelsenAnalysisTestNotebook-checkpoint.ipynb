{
 "cells": [
  {
   "cell_type": "code",
   "execution_count": 5,
   "id": "714159d4",
   "metadata": {},
   "outputs": [],
   "source": [
    "from toolkit.populations import definePremotorPopulation"
   ]
  },
  {
   "cell_type": "code",
   "execution_count": null,
   "id": "9ae5e9bc",
   "metadata": {},
   "outputs": [],
   "source": [
    "h5file = \n",
    "premotorUnits = definePremotorPopulation(h5file)"
   ]
  }
 ],
 "metadata": {
  "kernelspec": {
   "display_name": "Python 3 (ipykernel)",
   "language": "python",
   "name": "python3"
  },
  "language_info": {
   "codemirror_mode": {
    "name": "ipython",
    "version": 3
   },
   "file_extension": ".py",
   "mimetype": "text/x-python",
   "name": "python",
   "nbconvert_exporter": "python",
   "pygments_lexer": "ipython3",
   "version": "3.10.6"
  }
 },
 "nbformat": 4,
 "nbformat_minor": 5
}
